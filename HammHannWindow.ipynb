{
  "nbformat": 4,
  "nbformat_minor": 0,
  "metadata": {
    "colab": {
      "name": "HammHannWindow.ipynb",
      "provenance": [],
      "collapsed_sections": [],
      "authorship_tag": "ABX9TyPUxPuGjvGYJPDJbIF/pTVm",
      "include_colab_link": true
    },
    "kernelspec": {
      "name": "python3",
      "display_name": "Python 3"
    }
  },
  "cells": [
    {
      "cell_type": "markdown",
      "metadata": {
        "id": "view-in-github",
        "colab_type": "text"
      },
      "source": [
        "<a href=\"https://colab.research.google.com/github/sachinmotwani20/DigitalSignalProcessing-Python/blob/master/HammHannWindow.ipynb\" target=\"_parent\"><img src=\"https://colab.research.google.com/assets/colab-badge.svg\" alt=\"Open In Colab\"/></a>"
      ]
    },
    {
      "cell_type": "markdown",
      "metadata": {
        "id": "dED5lMq0L9FO",
        "colab_type": "text"
      },
      "source": [
        "https://towardsdatascience.com/brief-introduction-of-hamming-and-hanning-function-as-the-preprocessing-of-discrete-fourier-8b87fe538bb7"
      ]
    },
    {
      "cell_type": "markdown",
      "metadata": {
        "id": "NSA_MxfXOdKE",
        "colab_type": "text"
      },
      "source": [
        "#Hamming v/s Hanning Window\n",
        "Here\n",
        "\n",
        "\n",
        "*   M: Total Data or Memory\n",
        "*   n: Represents current Iteration\n",
        "\n"
      ]
    },
    {
      "cell_type": "code",
      "metadata": {
        "id": "qbaWJjMLK1Bs",
        "colab_type": "code",
        "colab": {}
      },
      "source": [
        "import numpy as np\n",
        "import matplotlib.pyplot as plt"
      ],
      "execution_count": 0,
      "outputs": []
    },
    {
      "cell_type": "code",
      "metadata": {
        "id": "7X0BZD-lKUXY",
        "colab_type": "code",
        "colab": {}
      },
      "source": [
        "#setting\n",
        "minus_step = 9\n",
        "frequency = 4\n",
        "total_time = 10\n",
        "res = 0.01\n",
        "\n",
        "time = np.arange(0, total_time, res)\n",
        "amplitude = np.sin(2 * np.pi * frequency * (time/time[-1]))\n",
        "\n",
        "def hann(M):\n",
        "\thann_array = np.zeros(M)\n",
        "\tfor n in range(M):\n",
        "\t\thann_array[n] = 0.5 - 0.5 * np.cos((2 * np.pi * n) / (M - 1)) #Formula of Hanning Window\n",
        "\treturn hann_array\n",
        "\n",
        "def hamm(M):\n",
        "\thann_array = np.zeros(M)\n",
        "\tfor n in range(M):\n",
        "\t\thann_array[n] = 0.5386 - 0.46164 * np.cos((2 * np.pi * n) / (M - 1)) #Formula for Hamming Window\n",
        "\treturn hann_array\n",
        "\n",
        "hann_weight = hann(len(amplitude))\n",
        "hamm_weight = hamm(len(amplitude))"
      ],
      "execution_count": 0,
      "outputs": []
    },
    {
      "cell_type": "code",
      "metadata": {
        "id": "fcB3OeCOMIRI",
        "colab_type": "code",
        "colab": {
          "base_uri": "https://localhost:8080/",
          "height": 265
        },
        "outputId": "ea44cda1-9ba1-43cd-ff5f-ffa3ea47d4b6"
      },
      "source": [
        "plt.plot(time, hann_weight, label= 'Hanning Window')\n",
        "plt.plot(time, hamm_weight, label= 'Hamming Window')\n",
        "plt.legend()\n",
        "plt.show()"
      ],
      "execution_count": 3,
      "outputs": [
        {
          "output_type": "display_data",
          "data": {
            "image/png": "[encoded data removed]",
            "text/plain": [
              "<Figure size 432x288 with 1 Axes>"
            ]
          },
          "metadata": {
            "tags": [],
            "needs_background": "light"
          }
        }
      ]
    },
    {
      "cell_type": "code",
      "metadata": {
        "id": "x4Cq_HBQPDiQ",
        "colab_type": "code",
        "colab": {
          "base_uri": "https://localhost:8080/",
          "height": 351
        },
        "outputId": "559c489b-8320-495a-8f72-031d1cb57420"
      },
      "source": [
        "#apply fft\n",
        "fftdata = np.fft.fft(amplitude)\n",
        "fftdatafreq = np.zeros(len(amplitude))\n",
        "for i in range(len(fftdata)):\n",
        "\tfftdatafreq[i] = abs(fftdata[i].real)\n",
        "\n",
        "plt.stem(np.arange(0, len(time) // 2), fftdatafreq[:len(time) // 2])\n",
        "plt.xlabel('Frequency')\n",
        "plt.ylabel('Power')\n",
        "plt.title('FFT of 4 Hz Sine Wave')\n",
        "plt.ylim(0,20)\n",
        "plt.show()\n",
        "\n"
      ],
      "execution_count": 6,
      "outputs": [
        {
          "output_type": "stream",
          "text": [
            "/usr/local/lib/python3.6/dist-packages/ipykernel_launcher.py:6: UserWarning: In Matplotlib 3.3 individual lines on a stem plot will be added as a LineCollection instead of individual lines. This significantly improves the performance of a stem plot. To remove this warning and switch to the new behaviour, set the \"use_line_collection\" keyword argument to True.\n",
            "  \n"
          ],
          "name": "stderr"
        },
        {
          "output_type": "display_data",
          "data": {
            "image/png": "[encoded data removed]",
            "text/plain": [
              "<Figure size 432x288 with 1 Axes>"
            ]
          },
          "metadata": {
            "tags": [],
            "needs_background": "light"
          }
        }
      ]
    },
    {
      "cell_type": "code",
      "metadata": {
        "id": "k65N-x9jacpU",
        "colab_type": "code",
        "colab": {
          "base_uri": "https://localhost:8080/",
          "height": 351
        },
        "outputId": "d282ad52-8243-4d23-c034-b3fc6686e752"
      },
      "source": [
        "#modify\n",
        "time = time[:-minus_step]\n",
        "amplitude = amplitude[:-minus_step]\n",
        "\n",
        "plt.stem(time, amplitude)\n",
        "plt.xlabel('Time')\n",
        "plt.ylabel('Amplitude')\n",
        "plt.title('Unfinished 4 Hz Sine Wave')\n",
        "plt.ylim([0,20])\n",
        "plt.show()\n"
      ],
      "execution_count": 7,
      "outputs": [
        {
          "output_type": "stream",
          "text": [
            "/usr/local/lib/python3.6/dist-packages/ipykernel_launcher.py:4: UserWarning: In Matplotlib 3.3 individual lines on a stem plot will be added as a LineCollection instead of individual lines. This significantly improves the performance of a stem plot. To remove this warning and switch to the new behaviour, set the \"use_line_collection\" keyword argument to True.\n",
            "  after removing the cwd from sys.path.\n"
          ],
          "name": "stderr"
        },
        {
          "output_type": "display_data",
          "data": {
            "image/png": "[encoded data removed]",
            "text/plain": [
              "<Figure size 432x288 with 1 Axes>"
            ]
          },
          "metadata": {
            "tags": [],
            "needs_background": "light"
          }
        }
      ]
    },
    {
      "cell_type": "code",
      "metadata": {
        "id": "Iiny0CQQalHI",
        "colab_type": "code",
        "colab": {}
      },
      "source": [
        "#apply fft\n",
        "fftdata = np.fft.fft(amplitude)\n",
        "fftdatafreq = np.zeros(len(amplitude))\n",
        "for i in range(len(fftdata)):\n",
        "\tfftdatafreq[i] = abs(fftdata[i].real)\n",
        "\n",
        "plot_data(np.arange(0, len(time) // 2), fftdatafreq[:len(time) // 2], 'Frequency', \n",
        "'Power', 'sin_wave-modified_fft.png', title='FFT of Unfinished 4 Hz Sine Wave', y_lim=[0,20], plot_type='stem')"
      ],
      "execution_count": 0,
      "outputs": []
    }
  ]
}