{
  "nbformat": 4,
  "nbformat_minor": 0,
  "metadata": {
    "colab": {
      "name": "LinearConvolution.ipynb",
      "provenance": []
    },
    "kernelspec": {
      "name": "python3",
      "display_name": "Python 3"
    }
  },
  "cells": [
    {
      "cell_type": "markdown",
      "metadata": {
        "id": "YESqzpj-_uZd",
        "colab_type": "text"
      },
      "source": [
        "#Linear Convolution\n"
      ]
    },
    {
      "cell_type": "markdown",
      "metadata": {
        "id": "ItEZxrjfBTBH",
        "colab_type": "text"
      },
      "source": [
        "Convolution refers to the combinning of two signals to create a third one. "
      ]
    },
    {
      "cell_type": "code",
      "metadata": {
        "id": "OzM4c7104hgg",
        "colab_type": "code",
        "colab": {}
      },
      "source": [
        "import numpy as np\n",
        "import matplotlib.pyplot as plt"
      ],
      "execution_count": 0,
      "outputs": []
    },
    {
      "cell_type": "code",
      "metadata": {
        "id": "2-sgV3mC41kT",
        "colab_type": "code",
        "outputId": "eea8139b-1fc3-41ed-da87-62f83d1029f9",
        "colab": {
          "base_uri": "https://localhost:8080/",
          "height": 127
        }
      },
      "source": [
        "x=[]\n",
        "a=1\n",
        "while a!='#':\n",
        "  x.append(int(a))\n",
        "  a= input('Enter the x sequence (Enter # to exit)')\n",
        "x=x[1:]\n",
        "print('Your first sequence is : ', x)"
      ],
      "execution_count": 0,
      "outputs": [
        {
          "output_type": "stream",
          "text": [
            "Enter the x sequence (Enter # to exit)1\n",
            "Enter the x sequence (Enter # to exit)2\n",
            "Enter the x sequence (Enter # to exit)3\n",
            "Enter the x sequence (Enter # to exit)4\n",
            "Enter the x sequence (Enter # to exit)#\n",
            "Your first sequence is :  [1, 2, 3, 4]\n"
          ],
          "name": "stdout"
        }
      ]
    },
    {
      "cell_type": "code",
      "metadata": {
        "id": "wtCagAlI6gYZ",
        "colab_type": "code",
        "outputId": "1704db2c-b9a9-4700-8796-e616d5bdc321",
        "colab": {
          "base_uri": "https://localhost:8080/",
          "height": 127
        }
      },
      "source": [
        "y=[]\n",
        "a=1\n",
        "while a!='#':\n",
        "  y.append(int(a))\n",
        "  a= input('Enter the y sequence (Enter # to exit)')\n",
        "y=y[1:]\n",
        "print('Your second sequence is : ', y)"
      ],
      "execution_count": 0,
      "outputs": [
        {
          "output_type": "stream",
          "text": [
            "Enter the x sequence (Enter # to exit)5\n",
            "Enter the x sequence (Enter # to exit)6\n",
            "Enter the x sequence (Enter # to exit)7\n",
            "Enter the x sequence (Enter # to exit)8\n",
            "Enter the x sequence (Enter # to exit)#\n",
            "Your second sequence is :  [5, 6, 7, 8]\n"
          ],
          "name": "stdout"
        }
      ]
    },
    {
      "cell_type": "code",
      "metadata": {
        "id": "baZsbHuG8lY2",
        "colab_type": "code",
        "outputId": "4af4b971-e3d7-4141-8f7e-568a80d65a68",
        "colab": {
          "base_uri": "https://localhost:8080/",
          "height": 958
        }
      },
      "source": [
        "z=np.convolve(x,y)\n",
        "\n",
        "plt.stem(x)\n",
        "plt.title('First Sequence')\n",
        "plt.show()\n",
        "\n",
        "plt.stem( y)\n",
        "plt.title('Second Sequence')\n",
        "plt.show()\n",
        "\n",
        "\n",
        "plt.stem(z)\n",
        "plt.title('Linear Convolution ')\n",
        "plt.show()\n",
        "\n",
        "print('Linear Convultion = ', z)"
      ],
      "execution_count": 0,
      "outputs": [
        {
          "output_type": "stream",
          "text": [
            "/usr/local/lib/python3.6/dist-packages/ipykernel_launcher.py:3: UserWarning: In Matplotlib 3.3 individual lines on a stem plot will be added as a LineCollection instead of individual lines. This significantly improves the performance of a stem plot. To remove this warning and switch to the new behaviour, set the \"use_line_collection\" keyword argument to True.\n",
            "  This is separate from the ipykernel package so we can avoid doing imports until\n"
          ],
          "name": "stderr"
        },
        {
          "output_type": "display_data",
          "data": {
            "image/png": "[encoded data removed]",
            "text/plain": [
              "<Figure size 432x288 with 1 Axes>"
            ]
          },
          "metadata": {
            "tags": [],
            "needs_background": "light"
          }
        },
        {
          "output_type": "stream",
          "text": [
            "/usr/local/lib/python3.6/dist-packages/ipykernel_launcher.py:7: UserWarning: In Matplotlib 3.3 individual lines on a stem plot will be added as a LineCollection instead of individual lines. This significantly improves the performance of a stem plot. To remove this warning and switch to the new behaviour, set the \"use_line_collection\" keyword argument to True.\n",
            "  import sys\n"
          ],
          "name": "stderr"
        },
        {
          "output_type": "display_data",
          "data": {
            "image/png": "[encoded data removed]",
            "text/plain": [
              "<Figure size 432x288 with 1 Axes>"
            ]
          },
          "metadata": {
            "tags": [],
            "needs_background": "light"
          }
        },
        {
          "output_type": "stream",
          "text": [
            "/usr/local/lib/python3.6/dist-packages/ipykernel_launcher.py:12: UserWarning: In Matplotlib 3.3 individual lines on a stem plot will be added as a LineCollection instead of individual lines. This significantly improves the performance of a stem plot. To remove this warning and switch to the new behaviour, set the \"use_line_collection\" keyword argument to True.\n",
            "  if sys.path[0] == '':\n"
          ],
          "name": "stderr"
        },
        {
          "output_type": "display_data",
          "data": {
            "image/png": "[encoded data removed]",
            "text/plain": [
              "<Figure size 432x288 with 1 Axes>"
            ]
          },
          "metadata": {
            "tags": [],
            "needs_background": "light"
          }
        },
        {
          "output_type": "stream",
          "text": [
            "Linear Convultion =  [ 5 16 34 60 61 52 32]\n"
          ],
          "name": "stdout"
        }
      ]
    },
    {
      "cell_type": "code",
      "metadata": {
        "id": "ibO-En1l8-JE",
        "colab_type": "code",
        "colab": {}
      },
      "source": [
        ""
      ],
      "execution_count": 0,
      "outputs": []
    }
  ]
}