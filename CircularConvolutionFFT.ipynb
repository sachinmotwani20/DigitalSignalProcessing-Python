{
  "nbformat": 4,
  "nbformat_minor": 0,
  "metadata": {
    "colab": {
      "name": "CircularConvolutionFFT.ipynb",
      "provenance": [],
      "authorship_tag": "ABX9TyPlbTVbtF0lZxIrDIcDoHXL",
      "include_colab_link": true
    },
    "kernelspec": {
      "name": "python3",
      "display_name": "Python 3"
    }
  },
  "cells": [
    {
      "cell_type": "markdown",
      "metadata": {
        "id": "view-in-github",
        "colab_type": "text"
      },
      "source": [
        "<a href=\"https://colab.research.google.com/github/sachinmotwani20/DigitalSignalProcessing-Python/blob/master/CircularConvolutionFFT.ipynb\" target=\"_parent\"><img src=\"https://colab.research.google.com/assets/colab-badge.svg\" alt=\"Open In Colab\"/></a>"
      ]
    },
    {
      "cell_type": "markdown",
      "metadata": {
        "id": "pQFt3P7d5MQp",
        "colab_type": "text"
      },
      "source": [
        "#Circular Convolution (Periodic Convolution)\n"
      ]
    },
    {
      "cell_type": "markdown",
      "metadata": {
        "id": "k48ynhQm5TVW",
        "colab_type": "text"
      },
      "source": [
        "Using **Discrete Fourier Transform**"
      ]
    },
    {
      "cell_type": "code",
      "metadata": {
        "id": "Mz1nQbiIoKEv",
        "colab_type": "code",
        "colab": {}
      },
      "source": [
        "import numpy as np\n",
        "import matplotlib.pyplot as plt\n",
        "import numpy.fft"
      ],
      "execution_count": 0,
      "outputs": []
    },
    {
      "cell_type": "code",
      "metadata": {
        "id": "OhAQeGNysRnw",
        "colab_type": "code",
        "outputId": "f47c8984-a160-4e01-8881-f434ca8c293b",
        "colab": {
          "base_uri": "https://localhost:8080/",
          "height": 128
        }
      },
      "source": [
        "x=[]\n",
        "a=1\n",
        "while a!='#':\n",
        "  x.append(int(a))\n",
        "  a= input('Enter the x sequence (Enter # to End)')\n",
        "x=x[1:]\n",
        "print('Entered first sequence is : ', x)"
      ],
      "execution_count": 23,
      "outputs": [
        {
          "output_type": "stream",
          "text": [
            "Enter the x sequence (Enter # to exit)1\n",
            "Enter the x sequence (Enter # to exit)2\n",
            "Enter the x sequence (Enter # to exit)3\n",
            "Enter the x sequence (Enter # to exit)4\n",
            "Enter the x sequence (Enter # to exit)#\n",
            "Entered first sequence is :  [1, 2, 3, 4]\n"
          ],
          "name": "stdout"
        }
      ]
    },
    {
      "cell_type": "code",
      "metadata": {
        "id": "OBV7-lhwsTrE",
        "colab_type": "code",
        "outputId": "dc58d3c3-938c-45a1-9efc-dd860bf264aa",
        "colab": {
          "base_uri": "https://localhost:8080/",
          "height": 91
        }
      },
      "source": [
        "y=[]\n",
        "a=1\n",
        "while a!='#':\n",
        "  y.append(int(a))\n",
        "  a= input('Enter the y sequence (Enter # to End)')\n",
        "y=y[1:]\n",
        "print('Entered second sequence is : ', y)"
      ],
      "execution_count": 24,
      "outputs": [
        {
          "output_type": "stream",
          "text": [
            "Enter the y sequence (Enter # to exit)1\n",
            "Enter the y sequence (Enter # to exit)2\n",
            "Enter the y sequence (Enter # to exit)#\n",
            "Entered second sequence is :  [1, 2]\n"
          ],
          "name": "stdout"
        }
      ]
    },
    {
      "cell_type": "code",
      "metadata": {
        "id": "vmN1R_QAlrSx",
        "colab_type": "code",
        "colab": {
          "base_uri": "https://localhost:8080/",
          "height": 54
        },
        "outputId": "2a33af82-4b97-427d-dcf1-113fa1e1dcb8"
      },
      "source": [
        "#Zero Padding\n",
        "if (len(x)!= len(y)): #If the sequence lengths are unequal  \n",
        "  if len(x)>len(y) : \n",
        "    for i in range (len(y), len(x)):\n",
        "      y.append(0)\n",
        "  else:\n",
        "    for i in range (len(x), len(y)):\n",
        "      x.append(0)\n",
        "\n",
        "print(x)\n",
        "print(y)"
      ],
      "execution_count": 25,
      "outputs": [
        {
          "output_type": "stream",
          "text": [
            "[1, 2, 3, 4]\n",
            "[1, 2, 0, 0]\n"
          ],
          "name": "stdout"
        }
      ]
    },
    {
      "cell_type": "code",
      "metadata": {
        "id": "IJ0F7hEC5hfj",
        "colab_type": "code",
        "outputId": "c7533be1-4409-4fdc-9398-8874498a5e4d",
        "colab": {
          "base_uri": "https://localhost:8080/",
          "height": 73
        }
      },
      "source": [
        "xfft = np.real(np.fft.fft(x)) #Fourier Transform of x\n",
        "xfft = xfft.astype(int) #Converting to integer values\n",
        "\n",
        "yfft = np.real(np.fft.fft(y)) #Fourier Transform of y\n",
        "yfft = yfft.astype(int) #Converting to integer values\n",
        "\n",
        "zfft = xfft*yfft #Finding Circular Convolution\n",
        "#Z(k) = X(k)*Y(k)  [here, * = multiplication symbol]\n",
        "zfft = zfft.astype(int) #Converting to integer values\n",
        "\n",
        "print('Fourier Transform of 1st Sequence: ',xfft )\n",
        "print('Fourier Transform of 2nd Sequence: ',yfft )\n",
        "print('Multiplication of the two Sequences in frequency domain: ',zfft )"
      ],
      "execution_count": 26,
      "outputs": [
        {
          "output_type": "stream",
          "text": [
            "Fourier Transform of 1st Sequence:  [10 -2 -2 -2]\n",
            "Fourier Transform of 2nd Sequence:  [ 3  1 -1  1]\n",
            "Multiplication of the two Sequences in frequency domain:  [30 -2  2 -2]\n"
          ],
          "name": "stdout"
        }
      ]
    },
    {
      "cell_type": "code",
      "metadata": {
        "id": "il6zhAEvsf8s",
        "colab_type": "code",
        "outputId": "fa6eb553-981f-4db5-a3cf-09652f1414d6",
        "colab": {
          "base_uri": "https://localhost:8080/",
          "height": 940
        }
      },
      "source": [
        "z = np.real(np.fft.ifft(np.fft.fft(x)*np.fft.fft(y))) \n",
        "#Didn't use above results as they don't carry imaginary parts; that eventually impact results\n",
        "z = z.astype(int)\n",
        "\n",
        "\n",
        "\n",
        "p=max(len(x),len(y))\n",
        "q= list(range(0, p))\n",
        "\n",
        "plt.stem(q, x)\n",
        "plt.title('First Sequence')\n",
        "plt.show()\n",
        "\n",
        "plt.stem(q, y)\n",
        "plt.title('Second Sequence')\n",
        "plt.show()\n",
        "\n",
        "\n",
        "plt.stem(z)\n",
        "plt.title('Circular Convolution ')\n",
        "plt.show()\n",
        "\n",
        "print('Circular Convultion = ', z)"
      ],
      "execution_count": 27,
      "outputs": [
        {
          "output_type": "stream",
          "text": [
            "/usr/local/lib/python3.6/dist-packages/ipykernel_launcher.py:10: UserWarning: In Matplotlib 3.3 individual lines on a stem plot will be added as a LineCollection instead of individual lines. This significantly improves the performance of a stem plot. To remove this warning and switch to the new behaviour, set the \"use_line_collection\" keyword argument to True.\n",
            "  # Remove the CWD from sys.path while we load stuff.\n"
          ],
          "name": "stderr"
        },
        {
          "output_type": "display_data",
          "data": {
            "image/png": "[encoded data removed]",
            "text/plain": [
              "<Figure size 432x288 with 1 Axes>"
            ]
          },
          "metadata": {
            "tags": [],
            "needs_background": "light"
          }
        },
        {
          "output_type": "stream",
          "text": [
            "/usr/local/lib/python3.6/dist-packages/ipykernel_launcher.py:14: UserWarning: In Matplotlib 3.3 individual lines on a stem plot will be added as a LineCollection instead of individual lines. This significantly improves the performance of a stem plot. To remove this warning and switch to the new behaviour, set the \"use_line_collection\" keyword argument to True.\n",
            "  \n"
          ],
          "name": "stderr"
        },
        {
          "output_type": "display_data",
          "data": {
            "image/png": "[encoded data removed]",
            "text/plain": [
              "<Figure size 432x288 with 1 Axes>"
            ]
          },
          "metadata": {
            "tags": [],
            "needs_background": "light"
          }
        },
        {
          "output_type": "stream",
          "text": [
            "/usr/local/lib/python3.6/dist-packages/ipykernel_launcher.py:19: UserWarning: In Matplotlib 3.3 individual lines on a stem plot will be added as a LineCollection instead of individual lines. This significantly improves the performance of a stem plot. To remove this warning and switch to the new behaviour, set the \"use_line_collection\" keyword argument to True.\n"
          ],
          "name": "stderr"
        },
        {
          "output_type": "display_data",
          "data": {
            "image/png": "[encoded data removed]",
            "text/plain": [
              "<Figure size 432x288 with 1 Axes>"
            ]
          },
          "metadata": {
            "tags": [],
            "needs_background": "light"
          }
        },
        {
          "output_type": "stream",
          "text": [
            "Circular Convultion =  [ 9  4  7 10]\n"
          ],
          "name": "stdout"
        }
      ]
    }
  ]
}