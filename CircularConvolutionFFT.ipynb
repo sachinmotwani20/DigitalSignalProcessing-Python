{
  "nbformat": 4,
  "nbformat_minor": 0,
  "metadata": {
    "colab": {
      "name": "CircularConvolutionFFT.ipynb",
      "provenance": [],
      "collapsed_sections": [],
      "include_colab_link": true
    },
    "kernelspec": {
      "name": "python3",
      "display_name": "Python 3"
    }
  },
  "cells": [
    {
      "cell_type": "markdown",
      "metadata": {
        "id": "view-in-github",
        "colab_type": "text"
      },
      "source": [
        "<a href=\"https://colab.research.google.com/github/sachinmotwani20/DigitalSignalProcessing-Python/blob/master/CircularConvolutionFFT.ipynb\" target=\"_parent\"><img src=\"https://colab.research.google.com/assets/colab-badge.svg\" alt=\"Open In Colab\"/></a>"
      ]
    },
    {
      "cell_type": "markdown",
      "metadata": {
        "id": "pQFt3P7d5MQp",
        "colab_type": "text"
      },
      "source": [
        "#Circular Convolution (Periodic Convolution)\n"
      ]
    },
    {
      "cell_type": "markdown",
      "metadata": {
        "id": "k48ynhQm5TVW",
        "colab_type": "text"
      },
      "source": [
        "Using **Discrete Fourier Transform**"
      ]
    },
    {
      "cell_type": "code",
      "metadata": {
        "id": "Mz1nQbiIoKEv",
        "colab_type": "code",
        "colab": {}
      },
      "source": [
        "import numpy as np\n",
        "import matplotlib.pyplot as plt\n",
        "import numpy.fft"
      ],
      "execution_count": 0,
      "outputs": []
    },
    {
      "cell_type": "code",
      "metadata": {
        "id": "OhAQeGNysRnw",
        "colab_type": "code",
        "outputId": "24c3636f-f380-46a2-97b7-f44f06d5d727",
        "colab": {
          "base_uri": "https://localhost:8080/",
          "height": 109
        }
      },
      "source": [
        "x=[]\n",
        "a=1\n",
        "while a!='#':\n",
        "  x.append(int(a))\n",
        "  a= input('Enter the x sequence (Enter # to End)')\n",
        "x=x[1:]\n",
        "print('Entered first sequence is : ', x)"
      ],
      "execution_count": 0,
      "outputs": [
        {
          "output_type": "stream",
          "text": [
            "Enter the x sequence (Enter # to End)1\n",
            "Enter the x sequence (Enter # to End)2\n",
            "Enter the x sequence (Enter # to End)3\n",
            "Enter the x sequence (Enter # to End)#\n",
            "Entered first sequence is :  [1, 2, 3]\n"
          ],
          "name": "stdout"
        }
      ]
    },
    {
      "cell_type": "code",
      "metadata": {
        "id": "OBV7-lhwsTrE",
        "colab_type": "code",
        "outputId": "113b62a5-7d88-493c-86b9-8d33dcad1741",
        "colab": {
          "base_uri": "https://localhost:8080/",
          "height": 165
        }
      },
      "source": [
        "y=[]\n",
        "a=1\n",
        "while a!='#':\n",
        "  y.append(int(a))\n",
        "  a= input('Enter the y sequence (Enter # to End)')\n",
        "y=y[1:]\n",
        "print('Entered second sequence is : ', y)"
      ],
      "execution_count": 0,
      "outputs": [
        {
          "output_type": "stream",
          "text": [
            "Enter the y sequence (Enter # to End)4\n",
            "Enter the y sequence (Enter # to End)5\n",
            "Enter the y sequence (Enter # to End)8\n",
            "Enter the y sequence (Enter # to End)9\n",
            "Enter the y sequence (Enter # to End)4\n",
            "Enter the y sequence (Enter # to End)7\n",
            "Enter the y sequence (Enter # to End)#\n",
            "Entered second sequence is :  [4, 5, 8, 9, 4, 7]\n"
          ],
          "name": "stdout"
        }
      ]
    },
    {
      "cell_type": "code",
      "metadata": {
        "id": "vmN1R_QAlrSx",
        "colab_type": "code",
        "outputId": "fc26cc84-1ba7-47b6-e0a6-fb02b2559b90",
        "colab": {
          "base_uri": "https://localhost:8080/",
          "height": 54
        }
      },
      "source": [
        "#Zero Padding\n",
        "if (len(x)!= len(y)): #If the sequence lengths are unequal  \n",
        "  if len(x)>len(y) : \n",
        "    for i in range (len(y), len(x)):\n",
        "      y.append(0)\n",
        "  else:\n",
        "    for i in range (len(x), len(y)):\n",
        "      x.append(0)\n",
        "\n",
        "print(x)\n",
        "print(y)"
      ],
      "execution_count": 0,
      "outputs": [
        {
          "output_type": "stream",
          "text": [
            "[1, 2, 3, 0, 0, 0]\n",
            "[4, 5, 8, 9, 4, 7]\n"
          ],
          "name": "stdout"
        }
      ]
    },
    {
      "cell_type": "code",
      "metadata": {
        "id": "IJ0F7hEC5hfj",
        "colab_type": "code",
        "outputId": "c1b089b7-ec36-40a2-a1bb-46a5a175f590",
        "colab": {
          "base_uri": "https://localhost:8080/",
          "height": 72
        }
      },
      "source": [
        "xfft = np.real(np.fft.fft(x)) #Fourier Transform of x\n",
        "xfft = xfft.astype(int) #Converting to integer values\n",
        "\n",
        "yfft = np.real(np.fft.fft(y)) #Fourier Transform of y\n",
        "yfft = yfft.astype(int) #Converting to integer values\n",
        "\n",
        "zfft = xfft*yfft #Finding Circular Convolution\n",
        "#Z(k) = X(k)*Y(k)  [here, * = multiplication symbol]\n",
        "zfft = zfft.astype(int) #Converting to integer values\n",
        "\n",
        "print('Fourier Transform of 1st Sequence: ',xfft )\n",
        "print('Fourier Transform of 2nd Sequence: ',yfft )\n",
        "print('Multiplication of the two Sequences in frequency domain: ',zfft )"
      ],
      "execution_count": 0,
      "outputs": [
        {
          "output_type": "stream",
          "text": [
            "Fourier Transform of 1st Sequence:  [ 6  0 -1  2 -1  0]\n",
            "Fourier Transform of 2nd Sequence:  [37 -5  1 -5  1 -5]\n",
            "Multiplication of the two Sequences in frequency domain:  [222   0  -1 -10  -1   0]\n"
          ],
          "name": "stdout"
        }
      ]
    },
    {
      "cell_type": "code",
      "metadata": {
        "id": "il6zhAEvsf8s",
        "colab_type": "code",
        "outputId": "7494ba3b-1438-4647-e489-cdda2fe0fe26",
        "colab": {
          "base_uri": "https://localhost:8080/",
          "height": 940
        }
      },
      "source": [
        "z = np.real(np.fft.ifft(np.fft.fft(x)*np.fft.fft(y))) \n",
        "#Didn't use above results as they don't carry imaginary parts; that eventually impact results\n",
        "z = z.astype(int)\n",
        "\n",
        "\n",
        "\n",
        "p=max(len(x),len(y))\n",
        "q= list(range(0, p))\n",
        "\n",
        "plt.stem(q, x)\n",
        "plt.title('First Sequence')\n",
        "plt.show()\n",
        "\n",
        "plt.stem(q, y)\n",
        "plt.title('Second Sequence')\n",
        "plt.show()\n",
        "\n",
        "\n",
        "plt.stem(z)\n",
        "plt.title('Circular Convolution ')\n",
        "plt.show()\n",
        "\n",
        "print('Circular Convultion = ', z)"
      ],
      "execution_count": 0,
      "outputs": [
        {
          "output_type": "stream",
          "text": [
            "/usr/local/lib/python3.6/dist-packages/ipykernel_launcher.py:10: UserWarning: In Matplotlib 3.3 individual lines on a stem plot will be added as a LineCollection instead of individual lines. This significantly improves the performance of a stem plot. To remove this warning and switch to the new behaviour, set the \"use_line_collection\" keyword argument to True.\n",
            "  # Remove the CWD from sys.path while we load stuff.\n"
          ],
          "name": "stderr"
        },
        {
          "output_type": "display_data",
          "data": {
            "image/png": "[encoded data removed]",
            "text/plain": [
              "<Figure size 432x288 with 1 Axes>"
            ]
          },
          "metadata": {
            "tags": [],
            "needs_background": "light"
          }
        },
        {
          "output_type": "stream",
          "text": [
            "/usr/local/lib/python3.6/dist-packages/ipykernel_launcher.py:14: UserWarning: In Matplotlib 3.3 individual lines on a stem plot will be added as a LineCollection instead of individual lines. This significantly improves the performance of a stem plot. To remove this warning and switch to the new behaviour, set the \"use_line_collection\" keyword argument to True.\n",
            "  \n"
          ],
          "name": "stderr"
        },
        {
          "output_type": "display_data",
          "data": {
            "image/png": "[encoded data removed]",
            "text/plain": [
              "<Figure size 432x288 with 1 Axes>"
            ]
          },
          "metadata": {
            "tags": [],
            "needs_background": "light"
          }
        },
        {
          "output_type": "stream",
          "text": [
            "/usr/local/lib/python3.6/dist-packages/ipykernel_launcher.py:19: UserWarning: In Matplotlib 3.3 individual lines on a stem plot will be added as a LineCollection instead of individual lines. This significantly improves the performance of a stem plot. To remove this warning and switch to the new behaviour, set the \"use_line_collection\" keyword argument to True.\n"
          ],
          "name": "stderr"
        },
        {
          "output_type": "display_data",
          "data": {
            "image/png": "[encoded data removed]",
            "text/plain": [
              "<Figure size 432x288 with 1 Axes>"
            ]
          },
          "metadata": {
            "tags": [],
            "needs_background": "light"
          }
        },
        {
          "output_type": "stream",
          "text": [
            "Circular Convultion =  [30 34 30 40 46 42]\n"
          ],
          "name": "stdout"
        }
      ]
    },
    {
      "cell_type": "code",
      "metadata": {
        "id": "M1cPH85Xw98N",
        "colab_type": "code",
        "outputId": "791f7901-0664-43b7-a8a1-43093990d786",
        "colab": {
          "base_uri": "https://localhost:8080/",
          "height": 35
        }
      },
      "source": [
        "z1=np.real(np.fft.ifft(xfft*yfft))  #error\n",
        "z1"
      ],
      "execution_count": 0,
      "outputs": [
        {
          "output_type": "execute_result",
          "data": {
            "text/plain": [
              "array([7., 7., 9., 7.])"
            ]
          },
          "metadata": {
            "tags": []
          },
          "execution_count": 28
        }
      ]
    }
  ]
}